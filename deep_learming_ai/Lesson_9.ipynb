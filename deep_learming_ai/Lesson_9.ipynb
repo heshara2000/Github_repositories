{
 "cells": [
  {
   "cell_type": "markdown",
   "id": "817221c9",
   "metadata": {},
   "source": [
    "# L9: Building LLM prompts with variables"
   ]
  },
  {
   "cell_type": "markdown",
   "id": "36029c06",
   "metadata": {},
   "source": [
    "In the next cell, you will import the function `print_llm_response` that uses an LLM with an instruction that you provide as a string and displays the result."
   ]
  },
  {
   "cell_type": "code",
   "execution_count": 1,
   "id": "cc237f34",
   "metadata": {
    "height": 30
   },
   "outputs": [],
   "source": [
    "from helper_functions import print_llm_response"
   ]
  },
  {
   "cell_type": "markdown",
   "id": "3074c1f9",
   "metadata": {},
   "source": [
    "Basically, you can use that function as if you were asking a chatbot. You just need to provide your instructions as a string. For instance, you can ask \"What is the capital of France?\" using the following code:"
   ]
  },
  {
   "cell_type": "code",
   "execution_count": 2,
   "id": "afcf6686",
   "metadata": {
    "height": 30
   },
   "outputs": [
    {
     "name": "stdout",
     "output_type": "stream",
     "text": [
      "The capital of France is Paris.\n"
     ]
    }
   ],
   "source": [
    "print_llm_response(\"What is the capital of France?\")"
   ]
  },
  {
   "cell_type": "markdown",
   "id": "7e164d69",
   "metadata": {},
   "source": [
    "Let's ask the LLM for the lifestyle description for Otto Matic, whose name is stored in `name`, if he were a `dog_age` years old dog."
   ]
  },
  {
   "cell_type": "code",
   "execution_count": 3,
   "id": "196644ca",
   "metadata": {
    "height": 47
   },
   "outputs": [],
   "source": [
    "name = \"Otto Matic\"\n",
    "dog_age = 21/7"
   ]
  },
  {
   "cell_type": "code",
   "execution_count": 4,
   "id": "ad18f441",
   "metadata": {
    "height": 81
   },
   "outputs": [
    {
     "name": "stdout",
     "output_type": "stream",
     "text": [
      "At 3.0 years old, Otto Matic would be considered an adult dog. He would likely have high energy levels, be playful, curious, and eager to explore. This stage is characterized by peak physical abilities and mental maturity. Otto Matic may enjoy activities that engage his mind and body, such as interactive play, running, and learning new tricks. It's important to provide him with regular exercise, mental stimulation, and socialization to keep him happy and healthy.\n"
     ]
    }
   ],
   "source": [
    "print_llm_response(f\"\"\"If {name} were a dog, he would be {dog_age} years old.\n",
    "Describe what life stage that would be for a dog and what that might \n",
    "entail in terms of energy level, interests, and behavior.\"\"\")"
   ]
  },
  {
   "cell_type": "markdown",
   "id": "8349cb53",
   "metadata": {},
   "source": [
    "<b>You just used AI with your own variables!</b> You used an LLM with instructions that included variables you defined in this notebook.\n",
    "\n",
    "<b>Congratulations 🎉🎉🎉</b>"
   ]
  },
  {
   "cell_type": "markdown",
   "id": "51181411",
   "metadata": {},
   "source": [
    "## Variable names restrictions"
   ]
  },
  {
   "cell_type": "markdown",
   "id": "89d94522",
   "metadata": {},
   "source": [
    "The following variable names also have some problems. Try to fix them yourself or use the help from the chatbot."
   ]
  },
  {
   "cell_type": "code",
   "execution_count": 7,
   "id": "af96e951",
   "metadata": {
    "height": 64
   },
   "outputs": [],
   "source": [
    "driver = \"unicorn\"\n",
    "drivers_vehicle = \"colorful, asymmetric dinosaur car\"\n",
    "favorite_planet = \"Pluto\""
   ]
  },
  {
   "cell_type": "markdown",
   "id": "59a3a881",
   "metadata": {},
   "source": [
    "Now, update the next cell with any changes you made in the previous cell."
   ]
  },
  {
   "cell_type": "code",
   "execution_count": 8,
   "id": "02b7e02c",
   "metadata": {
    "height": 64
   },
   "outputs": [
    {
     "name": "stdout",
     "output_type": "stream",
     "text": [
      "Once upon a time in a magical land far, far away, there was a unicorn named Sparkle and a colorful, asymmetric dinosaur car named Roary. They were both determined to win the prestigious Pluto Champion Cup, the most thrilling and challenging race in the entire universe.\n",
      "\n",
      "On the day of the race, the sun was shining brightly, and the crowd was buzzing with excitement. Sparkle's mane shimmered in the sunlight as she pranced gracefully to the starting line, while Roary revved his engine, his colorful scales gleaming with anticipation.\n",
      "\n",
      "The race began with a loud roar, and Sparkle and Roary raced neck and neck, their determination shining in their eyes. Sparkle's hooves pounded against the ground, her rainbow tail streaming behind her, while Roary's wheels spun furiously, leaving a trail of colorful sparks in his wake.\n",
      "\n",
      "As they raced through the twisting and turning track, obstacles appeared in their path - giant bubbles, rainbow bridges, and even a loop-de-loop. But Sparkle and Roary were fearless, navigating each challenge with skill and determination.\n",
      "\n",
      "Finally, they reached the finish line, the crowd cheering wildly as they crossed together in a tie. The judges declared it a draw, and Sparkle and Roary shared a proud smile, knowing that they had both given their all in the race.\n",
      "\n",
      "In the end, the Pluto Champion Cup was awarded to both Sparkle and Roary, a symbol of friendship and sportsmanship that would be remembered for generations to come. And as they stood on the winner's podium, their hearts filled with joy, they knew that they were both true champions in their own right.\n"
     ]
    }
   ],
   "source": [
    "print_llm_response(f\"\"\"Write me a 300 word children's story about a {driver} racing\n",
    "a {drivers_vehicle} for the {favorite_planet} champion cup.\"\"\")"
   ]
  },
  {
   "cell_type": "markdown",
   "id": "98ec7de7",
   "metadata": {},
   "source": [
    "## Extra practice\n",
    "\n",
    "Try the exercises below to practice the concepts from this lesson. Read the comments in each cell with the instructions for each exercise.\n",
    "\n",
    "<b>Feel free to use the chatbot if you need help.</b>"
   ]
  },
  {
   "cell_type": "code",
   "execution_count": 12,
   "id": "9fb2bd26",
   "metadata": {
    "height": 98
   },
   "outputs": [
    {
     "name": "stdout",
     "output_type": "stream",
     "text": [
      "My most favorite book is 1001 Ways to Wear a Hat, but I also like 2002 Ways to Wear a Scarf\n"
     ]
    }
   ],
   "source": [
    "# Fix this code\n",
    "favorite_book = \"1001 Ways to Wear a Hat\"\n",
    "second_fav_book=\"2002 Ways to Wear a Scarf\"\n",
    "print(f\"My most favorite book is {favorite_book}, but I also like {second_fav_book}\")"
   ]
  },
  {
   "cell_type": "code",
   "execution_count": null,
   "id": "407023e6",
   "metadata": {
    "height": 183
   },
   "outputs": [],
   "source": [
    "# Make variables for your favorite game, movie, and food.\n",
    "# Then use print_llm_response to ask the LLM to recommend you\n",
    "# a new song to listen to based on your likes.\n",
    "favourite_game = \"temple run\"\n",
    "movie=\"Harry Potter\"\n",
    "food = \"kottu\"\n",
    "\n",
    "print_llm_response(f\"\"\"write a new song list based on my {favourite_game} adn {movie} and {food}\n",
    "\n",
    "\"\"\")"
   ]
  }
 ],
 "metadata": {
  "kernelspec": {
   "display_name": "Python 3 (ipykernel)",
   "language": "python",
   "name": "python3"
  },
  "language_info": {
   "codemirror_mode": {
    "name": "ipython",
    "version": 3
   },
   "file_extension": ".py",
   "mimetype": "text/x-python",
   "name": "python",
   "nbconvert_exporter": "python",
   "pygments_lexer": "ipython3",
   "version": "3.9.19"
  }
 },
 "nbformat": 4,
 "nbformat_minor": 5
}
